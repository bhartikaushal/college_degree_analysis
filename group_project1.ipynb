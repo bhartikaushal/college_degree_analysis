{
 "cells": [
  {
   "cell_type": "code",
   "execution_count": 1,
   "metadata": {},
   "outputs": [],
   "source": [
    "import matplotlib.pyplot as plt\n",
    "import pandas as pd\n",
    "import numpy as np\n",
    "import requests\n",
    "import time\n",
    "from scipy.stats import linregress\n",
    "\n"
   ]
  },
  {
   "cell_type": "code",
   "execution_count": 2,
   "metadata": {},
   "outputs": [],
   "source": [
    "college_data = pd.read_csv(\"Employment Projections.csv\")"
   ]
  },
  {
   "cell_type": "code",
   "execution_count": 6,
   "metadata": {},
   "outputs": [
    {
     "data": {
      "text/html": [
       "<div>\n",
       "<style scoped>\n",
       "    .dataframe tbody tr th:only-of-type {\n",
       "        vertical-align: middle;\n",
       "    }\n",
       "\n",
       "    .dataframe tbody tr th {\n",
       "        vertical-align: top;\n",
       "    }\n",
       "\n",
       "    .dataframe thead th {\n",
       "        text-align: right;\n",
       "    }\n",
       "</style>\n",
       "<table border=\"1\" class=\"dataframe\">\n",
       "  <thead>\n",
       "    <tr style=\"text-align: right;\">\n",
       "      <th></th>\n",
       "      <th>Occupation Title</th>\n",
       "      <th>Occupation Code</th>\n",
       "      <th>Employment 2021</th>\n",
       "      <th>Employment 2031</th>\n",
       "      <th>Employment Change, 2021-2031</th>\n",
       "      <th>Employment Percent Change, 2021-2031</th>\n",
       "      <th>Occupational Openings, 2021-2031 Annual Average</th>\n",
       "      <th>Median Annual Wage 2021</th>\n",
       "      <th>Typical Entry-Level Education</th>\n",
       "      <th>Education Code</th>\n",
       "      <th>Work Experience in a Related Occupation</th>\n",
       "      <th>Workex Code</th>\n",
       "      <th>Typical on-the-job Training</th>\n",
       "      <th>trCode</th>\n",
       "    </tr>\n",
       "  </thead>\n",
       "  <tbody>\n",
       "    <tr>\n",
       "      <th>0</th>\n",
       "      <td>Accountants and auditors    * Account Auditor*...</td>\n",
       "      <td>=\"13-2011\"</td>\n",
       "      <td>1,449.8</td>\n",
       "      <td>1,531.6</td>\n",
       "      <td>81.8</td>\n",
       "      <td>5.6</td>\n",
       "      <td>136.4</td>\n",
       "      <td>77,250</td>\n",
       "      <td>Bachelor's degree</td>\n",
       "      <td>3</td>\n",
       "      <td>None</td>\n",
       "      <td>4</td>\n",
       "      <td>None</td>\n",
       "      <td>6</td>\n",
       "    </tr>\n",
       "    <tr>\n",
       "      <th>1</th>\n",
       "      <td>Actors    * Actor Understudy* Actress* Dramati...</td>\n",
       "      <td>=\"27-2011\"</td>\n",
       "      <td>50.6</td>\n",
       "      <td>54.7</td>\n",
       "      <td>4.1</td>\n",
       "      <td>8.2</td>\n",
       "      <td>7.0</td>\n",
       "      <td>NaN</td>\n",
       "      <td>Some college, no degree</td>\n",
       "      <td>6</td>\n",
       "      <td>None</td>\n",
       "      <td>4</td>\n",
       "      <td>Long-term on-the-job training</td>\n",
       "      <td>3</td>\n",
       "    </tr>\n",
       "    <tr>\n",
       "      <th>2</th>\n",
       "      <td>Actuaries    * Actuarial Associate* Actuarial ...</td>\n",
       "      <td>=\"15-2011\"</td>\n",
       "      <td>28.3</td>\n",
       "      <td>34.2</td>\n",
       "      <td>5.9</td>\n",
       "      <td>20.8</td>\n",
       "      <td>2.4</td>\n",
       "      <td>105,900</td>\n",
       "      <td>Bachelor's degree</td>\n",
       "      <td>3</td>\n",
       "      <td>None</td>\n",
       "      <td>4</td>\n",
       "      <td>Long-term on-the-job training</td>\n",
       "      <td>3</td>\n",
       "    </tr>\n",
       "    <tr>\n",
       "      <th>3</th>\n",
       "      <td>Acupuncturists</td>\n",
       "      <td>=\"29-1291\"</td>\n",
       "      <td>23.7</td>\n",
       "      <td>24.6</td>\n",
       "      <td>0.9</td>\n",
       "      <td>3.9</td>\n",
       "      <td>1.7</td>\n",
       "      <td>60,570</td>\n",
       "      <td>Master's degree</td>\n",
       "      <td>2</td>\n",
       "      <td>None</td>\n",
       "      <td>4</td>\n",
       "      <td>None</td>\n",
       "      <td>6</td>\n",
       "    </tr>\n",
       "    <tr>\n",
       "      <th>4</th>\n",
       "      <td>Adhesive bonding machine operators and tenders...</td>\n",
       "      <td>=\"51-9191\"</td>\n",
       "      <td>12.7</td>\n",
       "      <td>12.9</td>\n",
       "      <td>0.2</td>\n",
       "      <td>1.5</td>\n",
       "      <td>1.6</td>\n",
       "      <td>37,630</td>\n",
       "      <td>High school diploma or equivalent</td>\n",
       "      <td>7</td>\n",
       "      <td>None</td>\n",
       "      <td>4</td>\n",
       "      <td>Moderate-term on-the-job training</td>\n",
       "      <td>4</td>\n",
       "    </tr>\n",
       "  </tbody>\n",
       "</table>\n",
       "</div>"
      ],
      "text/plain": [
       "                                    Occupation Title Occupation Code  \\\n",
       "0  Accountants and auditors    * Account Auditor*...      =\"13-2011\"   \n",
       "1  Actors    * Actor Understudy* Actress* Dramati...      =\"27-2011\"   \n",
       "2  Actuaries    * Actuarial Associate* Actuarial ...      =\"15-2011\"   \n",
       "3                                     Acupuncturists      =\"29-1291\"   \n",
       "4  Adhesive bonding machine operators and tenders...      =\"51-9191\"   \n",
       "\n",
       "  Employment 2021 Employment 2031  Employment Change, 2021-2031  \\\n",
       "0         1,449.8         1,531.6                          81.8   \n",
       "1            50.6            54.7                           4.1   \n",
       "2            28.3            34.2                           5.9   \n",
       "3            23.7            24.6                           0.9   \n",
       "4            12.7            12.9                           0.2   \n",
       "\n",
       "   Employment Percent Change, 2021-2031  \\\n",
       "0                                   5.6   \n",
       "1                                   8.2   \n",
       "2                                  20.8   \n",
       "3                                   3.9   \n",
       "4                                   1.5   \n",
       "\n",
       "   Occupational Openings, 2021-2031 Annual Average Median Annual Wage 2021  \\\n",
       "0                                            136.4                  77,250   \n",
       "1                                              7.0                     NaN   \n",
       "2                                              2.4                 105,900   \n",
       "3                                              1.7                  60,570   \n",
       "4                                              1.6                  37,630   \n",
       "\n",
       "       Typical Entry-Level Education  Education Code  \\\n",
       "0                  Bachelor's degree               3   \n",
       "1            Some college, no degree               6   \n",
       "2                  Bachelor's degree               3   \n",
       "3                    Master's degree               2   \n",
       "4  High school diploma or equivalent               7   \n",
       "\n",
       "  Work Experience in a Related Occupation  Workex Code  \\\n",
       "0                                    None            4   \n",
       "1                                    None            4   \n",
       "2                                    None            4   \n",
       "3                                    None            4   \n",
       "4                                    None            4   \n",
       "\n",
       "         Typical on-the-job Training  trCode  \n",
       "0                               None       6  \n",
       "1      Long-term on-the-job training       3  \n",
       "2      Long-term on-the-job training       3  \n",
       "3                               None       6  \n",
       "4  Moderate-term on-the-job training       4  "
      ]
     },
     "execution_count": 6,
     "metadata": {},
     "output_type": "execute_result"
    }
   ],
   "source": [
    "college_data.head(\"\")"
   ]
  },
  {
   "cell_type": "code",
   "execution_count": 18,
   "metadata": {},
   "outputs": [
    {
     "data": {
      "text/plain": [
       "Index(['Occupation Title', 'Occupation Code', 'Employment 2021',\n",
       "       'Employment 2031', 'Employment Change, 2021-2031',\n",
       "       'Employment Percent Change, 2021-2031',\n",
       "       'Occupational Openings, 2021-2031 Annual Average',\n",
       "       'Median Annual Wage 2021', 'Typical Entry-Level Education',\n",
       "       'Education Code', 'Work Experience in a Related Occupation',\n",
       "       'Workex Code', 'Typical on-the-job Training', 'trCode'],\n",
       "      dtype='object')"
      ]
     },
     "execution_count": 18,
     "metadata": {},
     "output_type": "execute_result"
    }
   ],
   "source": [
    "college_df = college_data.dropna(subset = [\"Median Annual Wage 2021\"])\n",
    "college_df.columns"
   ]
  },
  {
   "cell_type": "code",
   "execution_count": 38,
   "metadata": {},
   "outputs": [
    {
     "name": "stderr",
     "output_type": "stream",
     "text": [
      "C:\\Users\\bhart\\AppData\\Local\\Temp\\ipykernel_4124\\3333635120.py:1: SettingWithCopyWarning: \n",
      "A value is trying to be set on a copy of a slice from a DataFrame.\n",
      "Try using .loc[row_indexer,col_indexer] = value instead\n",
      "\n",
      "See the caveats in the documentation: https://pandas.pydata.org/pandas-docs/stable/user_guide/indexing.html#returning-a-view-versus-a-copy\n",
      "  college_df[\"Median Wage 2021\"] = college_df[\"Median Annual Wage 2021\"].str.replace(\",\",\"\")\n",
      "C:\\Users\\bhart\\AppData\\Local\\Temp\\ipykernel_4124\\3333635120.py:4: SettingWithCopyWarning: \n",
      "A value is trying to be set on a copy of a slice from a DataFrame.\n",
      "Try using .loc[row_indexer,col_indexer] = value instead\n",
      "\n",
      "See the caveats in the documentation: https://pandas.pydata.org/pandas-docs/stable/user_guide/indexing.html#returning-a-view-versus-a-copy\n",
      "  college_df[\"Median Wage 2021\"] = college_df[\"Median Wage 2021\"].str.replace(\">=208000\",\"208000\")\n",
      "C:\\Users\\bhart\\AppData\\Local\\Temp\\ipykernel_4124\\3333635120.py:6: SettingWithCopyWarning: \n",
      "A value is trying to be set on a copy of a slice from a DataFrame.\n",
      "Try using .loc[row_indexer,col_indexer] = value instead\n",
      "\n",
      "See the caveats in the documentation: https://pandas.pydata.org/pandas-docs/stable/user_guide/indexing.html#returning-a-view-versus-a-copy\n",
      "  college_df[\"Median Wage 2021\"] = college_df[\"Median Wage 2021\"].astype(float)\n"
     ]
    },
    {
     "data": {
      "text/plain": [
       "Typical Entry-Level Education\n",
       "Associate's degree                    59480.61\n",
       "Bachelor's degree                     80170.89\n",
       "Doctoral or professional degree      123650.14\n",
       "High school diploma or equivalent     46071.43\n",
       "Master's degree                       82992.56\n",
       "No formal educational credential      36277.00\n",
       "Postsecondary nondegree award         53101.20\n",
       "Some college, no degree               40008.33\n",
       "Name: Median Wage 2021, dtype: float64"
      ]
     },
     "execution_count": 38,
     "metadata": {},
     "output_type": "execute_result"
    }
   ],
   "source": [
    "college_df[\"Median Wage 2021\"] = college_df[\"Median Annual Wage 2021\"].str.replace(\",\",\"\")\n",
    "#in order to change wage to a float, we needed to get rid of commas and then change the values of '>=208000' to '208000'. \n",
    "#This affected 18 rows of data\n",
    "college_df[\"Median Wage 2021\"] = college_df[\"Median Wage 2021\"].str.replace(\">=208000\",\"208000\")\n",
    "\n",
    "college_df[\"Median Wage 2021\"] = college_df[\"Median Wage 2021\"].astype(float)\n",
    "#college_df.head()\n",
    "college_df_mean = round(college_df.groupby(\"Typical Entry-Level Education\")[\"Median Wage 2021\"].mean(),2)\n",
    "college_df_mean"
   ]
  },
  {
   "cell_type": "code",
   "execution_count": null,
   "metadata": {},
   "outputs": [],
   "source": [
    "college_df[\"Education_level\"]"
   ]
  }
 ],
 "metadata": {
  "kernelspec": {
   "display_name": "Python 3 (ipykernel)",
   "language": "python",
   "name": "python3"
  },
  "language_info": {
   "codemirror_mode": {
    "name": "ipython",
    "version": 3
   },
   "file_extension": ".py",
   "mimetype": "text/x-python",
   "name": "python",
   "nbconvert_exporter": "python",
   "pygments_lexer": "ipython3",
   "version": "3.10.11"
  }
 },
 "nbformat": 4,
 "nbformat_minor": 2
}
